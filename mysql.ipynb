{
 "cells": [
  {
   "cell_type": "code",
   "execution_count": 77,
   "metadata": {},
   "outputs": [],
   "source": [
    "import mysql.connector as sql\n"
   ]
  },
  {
   "cell_type": "code",
   "execution_count": 78,
   "metadata": {},
   "outputs": [],
   "source": [
    "db = sql.connect(host='localhost', port=3306, user ='root', password ='root', database='school')"
   ]
  },
  {
   "cell_type": "code",
   "execution_count": 79,
   "metadata": {},
   "outputs": [],
   "source": [
    "cur=db.cursor()"
   ]
  },
  {
   "cell_type": "code",
   "execution_count": 80,
   "metadata": {},
   "outputs": [],
   "source": [
    "cur.execute('show databases')"
   ]
  },
  {
   "cell_type": "code",
   "execution_count": 81,
   "metadata": {},
   "outputs": [
    {
     "name": "stdout",
     "output_type": "stream",
     "text": [
      "('information_schema',)\n",
      "('mysql',)\n",
      "('performance_schema',)\n",
      "('sakila',)\n",
      "('school',)\n",
      "('sys',)\n",
      "('world',)\n"
     ]
    }
   ],
   "source": [
    "for i in cur :\n",
    "    print(i)\n"
   ]
  },
  {
   "cell_type": "code",
   "execution_count": 82,
   "metadata": {},
   "outputs": [],
   "source": [
    "cur.execute('show tables')"
   ]
  },
  {
   "cell_type": "code",
   "execution_count": 83,
   "metadata": {},
   "outputs": [
    {
     "name": "stdout",
     "output_type": "stream",
     "text": [
      "('college',)\n",
      "('countries',)\n",
      "('datetime',)\n",
      "('event',)\n",
      "('hostal',)\n",
      "('hostal1',)\n",
      "('student',)\n"
     ]
    }
   ],
   "source": [
    "for i in cur:\n",
    "    print(i)"
   ]
  },
  {
   "cell_type": "code",
   "execution_count": 84,
   "metadata": {},
   "outputs": [],
   "source": [
    "cur.execute('select * from student')"
   ]
  },
  {
   "cell_type": "code",
   "execution_count": 85,
   "metadata": {},
   "outputs": [
    {
     "name": "stdout",
     "output_type": "stream",
     "text": [
      "(1, 'Puneet kumar', 5000000.0)\n",
      "(2, 'Pawan', 20.0)\n",
      "(3, 'Prabhat kumar', 50.0)\n",
      "(4, 'Ajeet Kumar', 200.0)\n",
      "(5, 'Deepak Kumar', 300.0)\n",
      "(6, 'Anurag Nishad', 3000.0)\n",
      "(7, 'Raj', 200000.0)\n",
      "(10, 'sonu', None)\n",
      "(11, None, None)\n",
      "(12, None, None)\n",
      "(13, None, None)\n",
      "(14, None, None)\n",
      "(16, 'Sunil', None)\n",
      "(17, 'deepa', 100200.0)\n"
     ]
    }
   ],
   "source": [
    "for i in cur:\n",
    "    print(i)"
   ]
  },
  {
   "cell_type": "code",
   "execution_count": 86,
   "metadata": {},
   "outputs": [],
   "source": [
    "#a = \"insert into student values (17,'deepa', 100200)\""
   ]
  },
  {
   "cell_type": "code",
   "execution_count": 87,
   "metadata": {},
   "outputs": [],
   "source": [
    "#cur.execute(a)"
   ]
  },
  {
   "cell_type": "code",
   "execution_count": 88,
   "metadata": {},
   "outputs": [],
   "source": [
    "cur.execute(\"select * from student\")"
   ]
  },
  {
   "cell_type": "code",
   "execution_count": 89,
   "metadata": {},
   "outputs": [
    {
     "name": "stdout",
     "output_type": "stream",
     "text": [
      "(1, 'Puneet kumar', 5000000.0)\n",
      "(2, 'Pawan', 20.0)\n",
      "(3, 'Prabhat kumar', 50.0)\n",
      "(4, 'Ajeet Kumar', 200.0)\n",
      "(5, 'Deepak Kumar', 300.0)\n",
      "(6, 'Anurag Nishad', 3000.0)\n",
      "(7, 'Raj', 200000.0)\n",
      "(10, 'sonu', None)\n",
      "(11, None, None)\n",
      "(12, None, None)\n",
      "(13, None, None)\n",
      "(14, None, None)\n",
      "(16, 'Sunil', None)\n",
      "(17, 'deepa', 100200.0)\n"
     ]
    }
   ],
   "source": [
    "for i in cur:\n",
    "    print(i)\n"
   ]
  },
  {
   "cell_type": "code",
   "execution_count": 90,
   "metadata": {},
   "outputs": [],
   "source": [
    "a = \"update student set name = 'sonu' where sn = 10 \"\n",
    "cur.execute(a)"
   ]
  },
  {
   "cell_type": "code",
   "execution_count": 91,
   "metadata": {},
   "outputs": [],
   "source": [
    "cur.execute(\"select * from student\")"
   ]
  },
  {
   "cell_type": "code",
   "execution_count": 92,
   "metadata": {},
   "outputs": [
    {
     "name": "stdout",
     "output_type": "stream",
     "text": [
      "(1, 'Puneet kumar', 5000000.0)\n",
      "(2, 'Pawan', 20.0)\n",
      "(3, 'Prabhat kumar', 50.0)\n",
      "(4, 'Ajeet Kumar', 200.0)\n",
      "(5, 'Deepak Kumar', 300.0)\n",
      "(6, 'Anurag Nishad', 3000.0)\n",
      "(7, 'Raj', 200000.0)\n",
      "(10, 'sonu', None)\n",
      "(11, None, None)\n",
      "(12, None, None)\n",
      "(13, None, None)\n",
      "(14, None, None)\n",
      "(16, 'Sunil', None)\n",
      "(17, 'deepa', 100200.0)\n"
     ]
    }
   ],
   "source": [
    "for i in cur:\n",
    "    print(i)"
   ]
  },
  {
   "cell_type": "code",
   "execution_count": 94,
   "metadata": {},
   "outputs": [],
   "source": [
    "cur.execute(\"desc countries\")"
   ]
  },
  {
   "cell_type": "code",
   "execution_count": 95,
   "metadata": {},
   "outputs": [
    {
     "name": "stdout",
     "output_type": "stream",
     "text": [
      "('country_id', b'varchar(20)', 'YES', '', None, '')\n",
      "('country_name', b'varchar(20)', 'YES', '', None, '')\n",
      "('region_id', b'float', 'YES', '', None, '')\n"
     ]
    }
   ],
   "source": [
    "for i in cur:\n",
    "    print(i)"
   ]
  },
  {
   "cell_type": "code",
   "execution_count": null,
   "metadata": {},
   "outputs": [],
   "source": [
    "cur.execute(\"CREATE TABLE IF NOT EXISTS countries1 ( COUNTRY_ID varchar(2),COUNTRY_NAME varchar(40),REGION_ID decimal(10,0)\")\n"
   ]
  }
 ],
 "metadata": {
  "kernelspec": {
   "display_name": "Python 3",
   "language": "python",
   "name": "python3"
  },
  "language_info": {
   "codemirror_mode": {
    "name": "ipython",
    "version": 3
   },
   "file_extension": ".py",
   "mimetype": "text/x-python",
   "name": "python",
   "nbconvert_exporter": "python",
   "pygments_lexer": "ipython3",
   "version": "3.11.3"
  },
  "orig_nbformat": 4
 },
 "nbformat": 4,
 "nbformat_minor": 2
}
